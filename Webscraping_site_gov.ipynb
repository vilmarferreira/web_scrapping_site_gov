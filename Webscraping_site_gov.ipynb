{
  "nbformat": 4,
  "nbformat_minor": 0,
  "metadata": {
    "colab": {
      "provenance": [],
      "collapsed_sections": [],
      "authorship_tag": "ABX9TyPA8YNNggKcKNeH7BtlBcX+",
      "include_colab_link": true
    },
    "kernelspec": {
      "name": "python3",
      "display_name": "Python 3"
    },
    "language_info": {
      "name": "python"
    }
  },
  "cells": [
    {
      "cell_type": "markdown",
      "metadata": {
        "id": "view-in-github",
        "colab_type": "text"
      },
      "source": [
        "<a href=\"https://colab.research.google.com/github/vilmarferreira/web_scrapping_site_gov/blob/main/Webscraping_site_gov.ipynb\" target=\"_parent\"><img src=\"https://colab.research.google.com/assets/colab-badge.svg\" alt=\"Open In Colab\"/></a>"
      ]
    },
    {
      "cell_type": "code",
      "execution_count": null,
      "metadata": {
        "id": "8yXhb3rlayOj"
      },
      "outputs": [],
      "source": [
        "# Import libraries\n",
        "import requests\n",
        "from bs4 import BeautifulSoup\n",
        "import shutil\n"
      ]
    },
    {
      "cell_type": "markdown",
      "source": [
        "Definindo formado de arquivos que eu quero buscar"
      ],
      "metadata": {
        "id": "3p-T_9unpURj"
      }
    },
    {
      "cell_type": "code",
      "source": [
        "format_files = [\"pdf\",'xlsx','txt','csv']"
      ],
      "metadata": {
        "id": "jv8X0B88pT3o"
      },
      "execution_count": null,
      "outputs": []
    },
    {
      "cell_type": "markdown",
      "source": [
        "Setando url do site do governo no qual eu desejo fazer um scrapping"
      ],
      "metadata": {
        "id": "mslyxVMppZiV"
      }
    },
    {
      "cell_type": "code",
      "source": [
        "url = \"https://www.gov.br/ans/pt-br/assuntos/consumidor/o-que-o-seu-plano-de-saude-deve-cobrir-1/o-que-e-o-rol-de-procedimentos-e-evento-em-saude\""
      ],
      "metadata": {
        "id": "Y3sgCKTwa9iG"
      },
      "execution_count": null,
      "outputs": []
    },
    {
      "cell_type": "markdown",
      "source": [
        "Fazendo requisição "
      ],
      "metadata": {
        "id": "E9COm_VkpeqG"
      }
    },
    {
      "cell_type": "code",
      "source": [
        "response = requests.get(url)\n"
      ],
      "metadata": {
        "id": "2IBtp-Wra_Rw"
      },
      "execution_count": null,
      "outputs": []
    },
    {
      "cell_type": "markdown",
      "source": [
        "Fazendo o parser"
      ],
      "metadata": {
        "id": "vcpUOqpFpjEI"
      }
    },
    {
      "cell_type": "code",
      "source": [
        "soup = BeautifulSoup(response.text, 'html.parser')"
      ],
      "metadata": {
        "id": "Sa3nGxv0bnXB"
      },
      "execution_count": null,
      "outputs": []
    },
    {
      "cell_type": "markdown",
      "source": [
        "Procurando pela palavra chave o tipo de arquivo desejado"
      ],
      "metadata": {
        "id": "dY6K71i9pmPm"
      }
    },
    {
      "cell_type": "code",
      "source": [
        "matched_tags = soup.find_all(lambda tag: len(tag.find_all()) == 0 and \"Anexo\" in tag.text and tag.get('href',None) is not None)\n"
      ],
      "metadata": {
        "id": "faPJwMPBg3uy"
      },
      "execution_count": null,
      "outputs": []
    },
    {
      "cell_type": "code",
      "source": [
        "path = \"files\""
      ],
      "metadata": {
        "id": "eEQM9VW-n1sP"
      },
      "execution_count": null,
      "outputs": []
    },
    {
      "cell_type": "markdown",
      "source": [
        "Pecorrendo as tags encontradas e fazendo o download dos arquivos"
      ],
      "metadata": {
        "id": "P_fQAMy8pO-7"
      }
    },
    {
      "cell_type": "code",
      "source": [
        "for tag in matched_tags:\n",
        "  file_format = tag.get('href').rsplit('.',1)[-1]\n",
        "  if file_format in format_files:\n",
        "    file_request = requests.get(tag.get('href'))\n",
        "    open(f'{path}/{tag.text}.{file_format}','wb').write(file_request.content)\n",
        "  print(tag.get('href'))\n",
        "  print(f'Title:{tag.text}')\n",
        "  print(f'Format:{file_format}')\n",
        "  print(f'link:{tag.get(\"href\")}')\n",
        "  \n",
        "\n"
      ],
      "metadata": {
        "colab": {
          "base_uri": "https://localhost:8080/"
        },
        "id": "47TZUxUIhVsX",
        "outputId": "d583bb16-28c1-4c26-e012-7770b1b88a80"
      },
      "execution_count": null,
      "outputs": [
        {
          "output_type": "stream",
          "name": "stdout",
          "text": [
            "https://www.gov.br/ans/pt-br/arquivos/assuntos/consumidor/o-que-seu-plano-deve-cobrir/Anexo_I_Rol_2021RN_465.2021_RN473_RN478_RN480_RN513_RN536_RN537_RN538_RN539_RN541_RN542_RN544_546.pdf\n",
            "Title:Anexo I - Lista completa de procedimentos (.pdf)\n",
            "Format:pdf\n",
            "link:https://www.gov.br/ans/pt-br/arquivos/assuntos/consumidor/o-que-seu-plano-deve-cobrir/Anexo_I_Rol_2021RN_465.2021_RN473_RN478_RN480_RN513_RN536_RN537_RN538_RN539_RN541_RN542_RN544_546.pdf\n",
            "https://www.gov.br/ans/pt-br/arquivos/assuntos/consumidor/o-que-seu-plano-deve-cobrir/Anexo_I_Rol_2021RN_465.2021_RN473_RN478_RN480_RN513_RN536_RN537_RN538_RN539_RN541_RN542_RN544_546.xlsx\n",
            "Title:Anexo I - Lista completa de procedimentos (.xlsx)\n",
            "Format:xlsx\n",
            "link:https://www.gov.br/ans/pt-br/arquivos/assuntos/consumidor/o-que-seu-plano-deve-cobrir/Anexo_I_Rol_2021RN_465.2021_RN473_RN478_RN480_RN513_RN536_RN537_RN538_RN539_RN541_RN542_RN544_546.xlsx\n",
            "https://www.gov.br/ans/pt-br/arquivos/assuntos/consumidor/o-que-seu-plano-deve-cobrir/Anexo_II_DUT_2021_RN_465.2021_tea.br_RN473_RN477_RN478_RN480_RN513_RN536_RN537_RN538_RN539_RN540_RN541_RN542_RN544_546.pdf\n",
            "Title:Anexo II - Diretrizes de utilização (.pdf)\n",
            "Format:pdf\n",
            "link:https://www.gov.br/ans/pt-br/arquivos/assuntos/consumidor/o-que-seu-plano-deve-cobrir/Anexo_II_DUT_2021_RN_465.2021_tea.br_RN473_RN477_RN478_RN480_RN513_RN536_RN537_RN538_RN539_RN540_RN541_RN542_RN544_546.pdf\n",
            "https://www.gov.br/ans/pt-br/arquivos/assuntos/consumidor/o-que-seu-plano-deve-cobrir/Anexo_III_DC_2021_RN_465.2021.v2.pdf\n",
            "Title:Anexo III - Diretrizes clínicas (.pdf)\n",
            "Format:pdf\n",
            "link:https://www.gov.br/ans/pt-br/arquivos/assuntos/consumidor/o-que-seu-plano-deve-cobrir/Anexo_III_DC_2021_RN_465.2021.v2.pdf\n",
            "https://www.gov.br/ans/pt-br/arquivos/assuntos/consumidor/o-que-seu-plano-deve-cobrir/Anexo_IV_PROUT_2021_RN_465.2021.v2.pdf\n",
            "Title:Anexo IV - Protocolo de utilização (.pdf)\n",
            "Format:pdf\n",
            "link:https://www.gov.br/ans/pt-br/arquivos/assuntos/consumidor/o-que-seu-plano-deve-cobrir/Anexo_IV_PROUT_2021_RN_465.2021.v2.pdf\n"
          ]
        }
      ]
    },
    {
      "cell_type": "markdown",
      "source": [
        "Zipando os arquivos"
      ],
      "metadata": {
        "id": "heCO4AXNo8-3"
      }
    },
    {
      "cell_type": "code",
      "source": [
        "shutil.make_archive('final', 'zip', './', path)\n"
      ],
      "metadata": {
        "colab": {
          "base_uri": "https://localhost:8080/",
          "height": 36
        },
        "id": "snFaWQIAom2Z",
        "outputId": "91ab7453-c2fe-41f0-e787-ff878d99b99f"
      },
      "execution_count": null,
      "outputs": [
        {
          "output_type": "execute_result",
          "data": {
            "text/plain": [
              "'/content/final.zip'"
            ],
            "application/vnd.google.colaboratory.intrinsic+json": {
              "type": "string"
            }
          },
          "metadata": {},
          "execution_count": 133
        }
      ]
    }
  ]
}